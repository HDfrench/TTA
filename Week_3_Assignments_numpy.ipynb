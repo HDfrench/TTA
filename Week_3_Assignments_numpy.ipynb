{
 "cells": [
  {
   "cell_type": "code",
   "execution_count": 1,
   "metadata": {},
   "outputs": [
    {
     "name": "stdout",
     "output_type": "stream",
     "text": [
      "[1 2 3 4 5 6 7 8 9]\n"
     ]
    }
   ],
   "source": [
    "# This section deals with the numpy assingment\n",
    "import numpy as np\n",
    "\n",
    "# task 1\n",
    "oneD_array = np.arange(1,10)\n",
    "print(oneD_array)"
   ]
  },
  {
   "cell_type": "code",
   "execution_count": 2,
   "metadata": {},
   "outputs": [
    {
     "name": "stdout",
     "output_type": "stream",
     "text": [
      "[[ True  True  True]\n",
      " [ True  True  True]\n",
      " [ True  True  True]]\n"
     ]
    }
   ],
   "source": [
    "# task 2\n",
    "basicD_array = np.array([True]*9)\n",
    "threeD_array = basicD_array.reshape(3,3)\n",
    "print(threeD_array)"
   ]
  },
  {
   "cell_type": "code",
   "execution_count": 3,
   "metadata": {},
   "outputs": [
    {
     "name": "stdout",
     "output_type": "stream",
     "text": [
      "[1 3 5 7 9]\n"
     ]
    }
   ],
   "source": [
    "# task 3\n",
    "print(oneD_array[::2])"
   ]
  },
  {
   "cell_type": "code",
   "execution_count": 4,
   "metadata": {},
   "outputs": [
    {
     "name": "stdout",
     "output_type": "stream",
     "text": [
      "[-1  2 -1  4 -1  6 -1  8 -1]\n"
     ]
    }
   ],
   "source": [
    "# task 4\n",
    "oneD_array = np.where(oneD_array%2==1, -1, oneD_array)\n",
    "#print(test_array)\n",
    "print(oneD_array)"
   ]
  },
  {
   "cell_type": "code",
   "execution_count": 5,
   "metadata": {},
   "outputs": [
    {
     "name": "stdout",
     "output_type": "stream",
     "text": [
      "[[ 1  2  3  4  5]\n",
      " [ 6  7  8  9 10]]\n"
     ]
    }
   ],
   "source": [
    "# task 5\n",
    "convert_array = np.arange(1,11).reshape(2,5)\n",
    "print(convert_array)"
   ]
  },
  {
   "cell_type": "code",
   "execution_count": 6,
   "metadata": {},
   "outputs": [
    {
     "name": "stdout",
     "output_type": "stream",
     "text": [
      "[[0 1 2 3 4 5 6 7 8]\n",
      " [0 1 2 3 4 5 6 7 8]]\n",
      "72\n",
      "204\n"
     ]
    }
   ],
   "source": [
    "# task 6\n",
    "a = np.arange(0,9)\n",
    "b = np.arange(0,9)\n",
    "c = np.vstack((a,b))\n",
    "d = np.sum(c)\n",
    "e = np.dot(a,b)\n",
    "print(c)\n",
    "print(d)\n",
    "print(e)"
   ]
  },
  {
   "cell_type": "code",
   "execution_count": 7,
   "metadata": {},
   "outputs": [
    {
     "name": "stdout",
     "output_type": "stream",
     "text": [
      "[1 1 1 2 2 2 3 3 3 1 2 3 1 2 3 1 2 3]\n"
     ]
    }
   ],
   "source": [
    "# task 6.1\n",
    "#concat_array = np.array()\n",
    "for i in range (1,4):\n",
    "    myarray = np.array([i,i,i])\n",
    "    if i ==1:\n",
    "        concat_array = myarray\n",
    "    else:\n",
    "        concat_array = np.concatenate((concat_array, myarray), axis = None)\n",
    "temp_array = np.arange(1,4)\n",
    "part_two_array = np.hstack((temp_array,temp_array,temp_array))\n",
    "concat_array = np.concatenate((concat_array, part_two_array), axis = None)\n",
    "print(concat_array)"
   ]
  },
  {
   "cell_type": "code",
   "execution_count": 8,
   "metadata": {},
   "outputs": [
    {
     "name": "stdout",
     "output_type": "stream",
     "text": [
      "[1 2 3]\n"
     ]
    }
   ],
   "source": [
    "# task 6.2\n",
    "a = np.arange(1,6)\n",
    "b = np.arange(4,9)\n",
    "a = np.setdiff1d(a, np.intersect1d(a,b))\n",
    "print(a)"
   ]
  },
  {
   "cell_type": "code",
   "execution_count": 9,
   "metadata": {},
   "outputs": [
    {
     "name": "stdout",
     "output_type": "stream",
     "text": [
      "[3 4 5 4 5 6 7]\n",
      "34\n"
     ]
    }
   ],
   "source": [
    "# task 6.3\n",
    "a = np.arange(1,6)\n",
    "b = np.arange(4,9)\n",
    "c = np.concatenate((a,b), axis=None)\n",
    "c = c[c>=3]\n",
    "c = c[c<=7]\n",
    "d = np.sum(c, axis=0)\n",
    "print(c)\n",
    "print(d)"
   ]
  },
  {
   "cell_type": "code",
   "execution_count": null,
   "metadata": {},
   "outputs": [],
   "source": []
  }
 ],
 "metadata": {
  "kernelspec": {
   "display_name": "Python 3",
   "language": "python",
   "name": "python3"
  },
  "language_info": {
   "codemirror_mode": {
    "name": "ipython",
    "version": 3
   },
   "file_extension": ".py",
   "mimetype": "text/x-python",
   "name": "python",
   "nbconvert_exporter": "python",
   "pygments_lexer": "ipython3",
   "version": "3.8.3"
  }
 },
 "nbformat": 4,
 "nbformat_minor": 4
}
